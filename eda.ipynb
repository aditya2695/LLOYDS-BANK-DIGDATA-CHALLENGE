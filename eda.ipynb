{
 "cells": [
  {
   "cell_type": "code",
   "execution_count": 6,
   "metadata": {},
   "outputs": [],
   "source": [
    "import pandas as pd\n",
    "import numpy as np\n",
    "import matplotlib.pyplot as plt\n",
    "import seaborn as sns"
   ]
  },
  {
   "cell_type": "code",
   "execution_count": 7,
   "metadata": {},
   "outputs": [
    {
     "data": {
      "text/html": [
       "<div>\n",
       "<style scoped>\n",
       "    .dataframe tbody tr th:only-of-type {\n",
       "        vertical-align: middle;\n",
       "    }\n",
       "\n",
       "    .dataframe tbody tr th {\n",
       "        vertical-align: top;\n",
       "    }\n",
       "\n",
       "    .dataframe thead th {\n",
       "        text-align: right;\n",
       "    }\n",
       "</style>\n",
       "<table border=\"1\" class=\"dataframe\">\n",
       "  <thead>\n",
       "    <tr style=\"text-align: right;\">\n",
       "      <th></th>\n",
       "      <th>id</th>\n",
       "      <th>addr_state</th>\n",
       "      <th>annual_inc</th>\n",
       "      <th>emp_length</th>\n",
       "      <th>emp_title</th>\n",
       "      <th>home_ownership</th>\n",
       "      <th>installment</th>\n",
       "      <th>loan_amnt</th>\n",
       "      <th>purpose</th>\n",
       "      <th>term</th>\n",
       "      <th>...</th>\n",
       "      <th>num_il_tl</th>\n",
       "      <th>num_op_rev_tl</th>\n",
       "      <th>num_tl_90g_dpd_24m</th>\n",
       "      <th>num_tl_op_past_12m</th>\n",
       "      <th>open_acc</th>\n",
       "      <th>percent_bc_gt_75</th>\n",
       "      <th>pub_rec_bankruptcies</th>\n",
       "      <th>total_acc</th>\n",
       "      <th>total_bal_ex_mort</th>\n",
       "      <th>loan_status</th>\n",
       "    </tr>\n",
       "  </thead>\n",
       "  <tbody>\n",
       "    <tr>\n",
       "      <th>0</th>\n",
       "      <td>802173</td>\n",
       "      <td>CA</td>\n",
       "      <td>72000.0</td>\n",
       "      <td>3 years</td>\n",
       "      <td>CA. Dept. Of Corrections</td>\n",
       "      <td>MORTGAGE</td>\n",
       "      <td>395.66</td>\n",
       "      <td>12000</td>\n",
       "      <td>debt_consolidation</td>\n",
       "      <td>36 months</td>\n",
       "      <td>...</td>\n",
       "      <td>NaN</td>\n",
       "      <td>NaN</td>\n",
       "      <td>NaN</td>\n",
       "      <td>NaN</td>\n",
       "      <td>16</td>\n",
       "      <td>NaN</td>\n",
       "      <td>0</td>\n",
       "      <td>23</td>\n",
       "      <td>NaN</td>\n",
       "      <td>Fully Paid</td>\n",
       "    </tr>\n",
       "    <tr>\n",
       "      <th>1</th>\n",
       "      <td>14518910</td>\n",
       "      <td>TX</td>\n",
       "      <td>97500.0</td>\n",
       "      <td>1 year</td>\n",
       "      <td>Curriculum &amp; Implementation Manager</td>\n",
       "      <td>RENT</td>\n",
       "      <td>966.47</td>\n",
       "      <td>35000</td>\n",
       "      <td>debt_consolidation</td>\n",
       "      <td>60 months</td>\n",
       "      <td>...</td>\n",
       "      <td>2.0</td>\n",
       "      <td>12.0</td>\n",
       "      <td>0.0</td>\n",
       "      <td>1.0</td>\n",
       "      <td>13</td>\n",
       "      <td>87.5</td>\n",
       "      <td>0</td>\n",
       "      <td>24</td>\n",
       "      <td>84227.0</td>\n",
       "      <td>Fully Paid</td>\n",
       "    </tr>\n",
       "    <tr>\n",
       "      <th>2</th>\n",
       "      <td>54333324</td>\n",
       "      <td>NY</td>\n",
       "      <td>120000.0</td>\n",
       "      <td>1 year</td>\n",
       "      <td>Senior manager</td>\n",
       "      <td>RENT</td>\n",
       "      <td>806.57</td>\n",
       "      <td>25000</td>\n",
       "      <td>credit_card</td>\n",
       "      <td>36 months</td>\n",
       "      <td>...</td>\n",
       "      <td>2.0</td>\n",
       "      <td>7.0</td>\n",
       "      <td>0.0</td>\n",
       "      <td>1.0</td>\n",
       "      <td>8</td>\n",
       "      <td>100.0</td>\n",
       "      <td>0</td>\n",
       "      <td>16</td>\n",
       "      <td>39124.0</td>\n",
       "      <td>Fully Paid</td>\n",
       "    </tr>\n",
       "    <tr>\n",
       "      <th>3</th>\n",
       "      <td>62247022</td>\n",
       "      <td>CA</td>\n",
       "      <td>130000.0</td>\n",
       "      <td>10+ years</td>\n",
       "      <td>Border Patrol Agent</td>\n",
       "      <td>RENT</td>\n",
       "      <td>846.17</td>\n",
       "      <td>25225</td>\n",
       "      <td>debt_consolidation</td>\n",
       "      <td>36 months</td>\n",
       "      <td>...</td>\n",
       "      <td>9.0</td>\n",
       "      <td>3.0</td>\n",
       "      <td>0.0</td>\n",
       "      <td>2.0</td>\n",
       "      <td>8</td>\n",
       "      <td>50.0</td>\n",
       "      <td>0</td>\n",
       "      <td>24</td>\n",
       "      <td>123331.0</td>\n",
       "      <td>Fully Paid</td>\n",
       "    </tr>\n",
       "    <tr>\n",
       "      <th>4</th>\n",
       "      <td>71986114</td>\n",
       "      <td>TX</td>\n",
       "      <td>58296.0</td>\n",
       "      <td>10+ years</td>\n",
       "      <td>Account Manager</td>\n",
       "      <td>MORTGAGE</td>\n",
       "      <td>41.79</td>\n",
       "      <td>1200</td>\n",
       "      <td>other</td>\n",
       "      <td>36 months</td>\n",
       "      <td>...</td>\n",
       "      <td>7.0</td>\n",
       "      <td>6.0</td>\n",
       "      <td>0.0</td>\n",
       "      <td>0.0</td>\n",
       "      <td>9</td>\n",
       "      <td>100.0</td>\n",
       "      <td>0</td>\n",
       "      <td>17</td>\n",
       "      <td>51794.0</td>\n",
       "      <td>Fully Paid</td>\n",
       "    </tr>\n",
       "  </tbody>\n",
       "</table>\n",
       "<p>5 rows × 31 columns</p>\n",
       "</div>"
      ],
      "text/plain": [
       "         id addr_state  annual_inc emp_length  \\\n",
       "0    802173         CA     72000.0    3 years   \n",
       "1  14518910         TX     97500.0     1 year   \n",
       "2  54333324         NY    120000.0     1 year   \n",
       "3  62247022         CA    130000.0  10+ years   \n",
       "4  71986114         TX     58296.0  10+ years   \n",
       "\n",
       "                             emp_title home_ownership  installment  loan_amnt  \\\n",
       "0             CA. Dept. Of Corrections       MORTGAGE       395.66      12000   \n",
       "1  Curriculum & Implementation Manager           RENT       966.47      35000   \n",
       "2                      Senior manager            RENT       806.57      25000   \n",
       "3                  Border Patrol Agent           RENT       846.17      25225   \n",
       "4                      Account Manager       MORTGAGE        41.79       1200   \n",
       "\n",
       "              purpose        term  ...  num_il_tl  num_op_rev_tl  \\\n",
       "0  debt_consolidation   36 months  ...        NaN            NaN   \n",
       "1  debt_consolidation   60 months  ...        2.0           12.0   \n",
       "2         credit_card   36 months  ...        2.0            7.0   \n",
       "3  debt_consolidation   36 months  ...        9.0            3.0   \n",
       "4               other   36 months  ...        7.0            6.0   \n",
       "\n",
       "   num_tl_90g_dpd_24m  num_tl_op_past_12m  open_acc  percent_bc_gt_75  \\\n",
       "0                 NaN                 NaN        16               NaN   \n",
       "1                 0.0                 1.0        13              87.5   \n",
       "2                 0.0                 1.0         8             100.0   \n",
       "3                 0.0                 2.0         8              50.0   \n",
       "4                 0.0                 0.0         9             100.0   \n",
       "\n",
       "   pub_rec_bankruptcies  total_acc  total_bal_ex_mort  loan_status  \n",
       "0                     0         23                NaN   Fully Paid  \n",
       "1                     0         24            84227.0   Fully Paid  \n",
       "2                     0         16            39124.0   Fully Paid  \n",
       "3                     0         24           123331.0   Fully Paid  \n",
       "4                     0         17            51794.0   Fully Paid  \n",
       "\n",
       "[5 rows x 31 columns]"
      ]
     },
     "execution_count": 7,
     "metadata": {},
     "output_type": "execute_result"
    }
   ],
   "source": [
    "bank_df  = pd.read_excel('LBG Step Up Data Set.xlsx',sheet_name='in')\n",
    "bank_df.head()"
   ]
  },
  {
   "cell_type": "code",
   "execution_count": 8,
   "metadata": {},
   "outputs": [
    {
     "data": {
      "text/plain": [
       "(18324, 31)"
      ]
     },
     "execution_count": 8,
     "metadata": {},
     "output_type": "execute_result"
    }
   ],
   "source": [
    "bank_df.shape"
   ]
  },
  {
   "cell_type": "code",
   "execution_count": 9,
   "metadata": {},
   "outputs": [
    {
     "data": {
      "text/plain": [
       "debt_consolidation    10678\n",
       "credit_card            3806\n",
       "other                  1209\n",
       "home_improvement       1095\n",
       "major_purchase          409\n",
       "small_business          286\n",
       "medical                 209\n",
       "car                     199\n",
       "moving                  144\n",
       "vacation                137\n",
       "house                   108\n",
       "wedding                  25\n",
       "renewable_energy         18\n",
       "educational               1\n",
       "Name: purpose, dtype: int64"
      ]
     },
     "execution_count": 9,
     "metadata": {},
     "output_type": "execute_result"
    }
   ],
   "source": [
    "bank_df['purpose'].value_counts()"
   ]
  },
  {
   "cell_type": "code",
   "execution_count": 10,
   "metadata": {},
   "outputs": [
    {
     "name": "stderr",
     "output_type": "stream",
     "text": [
      "d:\\ProgramData\\Anaconda3\\lib\\site-packages\\seaborn\\_decorators.py:36: FutureWarning: Pass the following variable as a keyword arg: x. From version 0.12, the only valid positional argument will be `data`, and passing other arguments without an explicit keyword will result in an error or misinterpretation.\n",
      "  warnings.warn(\n"
     ]
    },
    {
     "data": {
      "text/plain": [
       "<AxesSubplot:xlabel='purpose'>"
      ]
     },
     "execution_count": 10,
     "metadata": {},
     "output_type": "execute_result"
    },
    {
     "data": {
      "image/png": "[encoded data removed]",
      "text/plain": [
       "<Figure size 432x288 with 1 Axes>"
      ]
     },
     "metadata": {
      "needs_background": "light"
     },
     "output_type": "display_data"
    }
   ],
   "source": []
  },
  {
   "cell_type": "code",
   "execution_count": null,
   "metadata": {},
   "outputs": [],
   "source": []
  }
 ],
 "metadata": {
  "kernelspec": {
   "display_name": "base",
   "language": "python",
   "name": "python3"
  },
  "language_info": {
   "codemirror_mode": {
    "name": "ipython",
    "version": 3
   },
   "file_extension": ".py",
   "mimetype": "text/x-python",
   "name": "python",
   "nbconvert_exporter": "python",
   "pygments_lexer": "ipython3",
   "version": "3.9.12"
  },
  "orig_nbformat": 4,
  "vscode": {
   "interpreter": {
    "hash": "e42634819b8c191a5d07eaf23810ff32516dd8d3875f28ec3e488928fbd3c187"
   }
  }
 },
 "nbformat": 4,
 "nbformat_minor": 2
}
